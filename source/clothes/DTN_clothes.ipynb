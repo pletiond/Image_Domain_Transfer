{
  "nbformat": 4,
  "nbformat_minor": 0,
  "metadata": {
    "colab": {
      "name": "DTN-clothes.ipynb",
      "version": "0.3.2",
      "provenance": [],
      "collapsed_sections": [],
      "toc_visible": true
    },
    "language_info": {
      "codemirror_mode": {
        "name": "ipython",
        "version": 3
      },
      "file_extension": ".py",
      "mimetype": "text/x-python",
      "name": "python",
      "nbconvert_exporter": "python",
      "pygments_lexer": "ipython3",
      "version": "3.7.3"
    },
    "kernelspec": {
      "name": "python3",
      "display_name": "Python 3"
    },
    "accelerator": "GPU"
  },
  "cells": [
    {
      "cell_type": "code",
      "metadata": {
        "id": "USrpbtghKrbd",
        "colab_type": "code",
        "colab": {}
      },
      "source": [
        "#!zip -r number_without-sample.zip sample\n",
        "#!rm -R crop-images\n",
        "#!rm -R sample\n",
        "#!mkdir sample"
      ],
      "execution_count": 0,
      "outputs": []
    },
    {
      "cell_type": "code",
      "metadata": {
        "id": "RMza6IQvL8OH",
        "colab_type": "code",
        "colab": {}
      },
      "source": [
        "!curl -c ./cookie -s -L \"https://drive.google.com/uc?export=download&id=0B7EVK8r0v71pa2EyNEJ0dE9zbU0\" > /dev/null\n",
        "!curl -Lb ./cookie \"https://drive.google.com/uc?export=download&confirm=`awk '/download/ {print $NF}' ./cookie`&id=0B7EVK8r0v71pa2EyNEJ0dE9zbU0\" -o out.zip"
      ],
      "execution_count": 0,
      "outputs": []
    },
    {
      "cell_type": "code",
      "metadata": {
        "id": "P29a4XvcMrdR",
        "colab_type": "code",
        "colab": {}
      },
      "source": [
        "!wget http://vision.cs.utexas.edu/projects/finegrained/utzap50k/ut-zap50k-images.zip\n",
        "!unzip ut-zap50k-images.zip 1> /dev/null\n",
        "!mv ./ut-zap50k-images/Shoes .\n",
        "\n",
        "!unzip out.zip 1> /dev/null\n",
        "!rm out.zip\n",
        "!mv list_bbox.txt img\n",
        "!mkdir crop-images\n",
        "!python prepro_clothes_img.py"
      ],
      "execution_count": 0,
      "outputs": []
    },
    {
      "cell_type": "code",
      "metadata": {
        "id": "_TonFa0CIFGS",
        "colab_type": "code",
        "colab": {}
      },
      "source": [
        "!mkdir Fashion-MNIST\n",
        "!mv fashion-mnist_train.csv Fashion-MNIST\n",
        "!mv fashion-mnist_test.csv Fashion-MNIST"
      ],
      "execution_count": 0,
      "outputs": []
    },
    {
      "cell_type": "markdown",
      "metadata": {
        "id": "GyjCkiPViTBC",
        "colab_type": "text"
      },
      "source": [
        "## RUN"
      ]
    },
    {
      "cell_type": "code",
      "metadata": {
        "colab_type": "code",
        "id": "ET7VxVSMIjCQ",
        "colab": {}
      },
      "source": [
        "!python main.py pretrain"
      ],
      "execution_count": 0,
      "outputs": []
    },
    {
      "cell_type": "code",
      "metadata": {
        "id": "jgta2bjjxXb5",
        "colab_type": "code",
        "colab": {}
      },
      "source": [
        "!python main.py train"
      ],
      "execution_count": 0,
      "outputs": []
    },
    {
      "cell_type": "code",
      "metadata": {
        "id": "PIzXLhUrmnmu",
        "colab_type": "code",
        "colab": {}
      },
      "source": [
        "!python main.py eval"
      ],
      "execution_count": 0,
      "outputs": []
    }
  ]
}