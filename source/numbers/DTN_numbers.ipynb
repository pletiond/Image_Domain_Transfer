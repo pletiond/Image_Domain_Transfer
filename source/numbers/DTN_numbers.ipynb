{
  "nbformat": 4,
  "nbformat_minor": 0,
  "metadata": {
    "colab": {
      "name": "DTN-numbers.ipynb",
      "version": "0.3.2",
      "provenance": [],
      "collapsed_sections": []
    },
    "kernelspec": {
      "name": "python3",
      "display_name": "Python 3"
    },
    "accelerator": "GPU"
  },
  "cells": [
    {
      "cell_type": "code",
      "metadata": {
        "id": "fHtHfyQb4Hkb",
        "colab_type": "code",
        "colab": {}
      },
      "source": [
        "!chmod 777 download.sh\n",
        "!./download.sh\n",
        "!python prepro.py"
      ],
      "execution_count": 0,
      "outputs": []
    },
    {
      "cell_type": "code",
      "metadata": {
        "id": "OmnoGHYUFTIU",
        "colab_type": "code",
        "colab": {}
      },
      "source": [
        "!python main.py pretrain"
      ],
      "execution_count": 0,
      "outputs": []
    },
    {
      "cell_type": "code",
      "metadata": {
        "id": "sxpkvBYdusBU",
        "colab_type": "code",
        "colab": {}
      },
      "source": [
        "!python main.py train"
      ],
      "execution_count": 0,
      "outputs": []
    },
    {
      "cell_type": "code",
      "metadata": {
        "id": "2G_LKzW1uuY5",
        "colab_type": "code",
        "colab": {
          "base_uri": "https://localhost:8080/",
          "height": 1303
        },
        "outputId": "45b16355-ff15-4505-84eb-b82bb9e59598"
      },
      "source": [
        "!python main.py eval"
      ],
      "execution_count": 10,
      "outputs": [
        {
          "output_type": "stream",
          "text": [
            "WARNING: Logging before flag parsing goes to stderr.\n",
            "W0620 13:40:31.527806 140286776985472 deprecation_wrapper.py:119] From main.py:47: The name tf.app.run is deprecated. Please use tf.compat.v1.app.run instead.\n",
            "\n",
            "W0620 13:40:31.528808 140286776985472 deprecation_wrapper.py:119] From /content/solver.py:29: The name tf.ConfigProto is deprecated. Please use tf.compat.v1.ConfigProto instead.\n",
            "\n",
            "W0620 13:40:31.529427 140286776985472 deprecation_wrapper.py:119] From main.py:26: The name tf.gfile.Exists is deprecated. Please use tf.io.gfile.exists instead.\n",
            "\n",
            "W0620 13:40:31.529682 140286776985472 deprecation_wrapper.py:119] From /content/model.py:105: The name tf.placeholder is deprecated. Please use tf.compat.v1.placeholder instead.\n",
            "\n",
            "W0620 13:40:31.531688 140286776985472 deprecation_wrapper.py:119] From /content/model.py:20: The name tf.variable_scope is deprecated. Please use tf.compat.v1.variable_scope instead.\n",
            "\n",
            "loading svhn image dataset..\n",
            "finished loading svhn image dataset..!\n",
            "W0620 13:40:34.513679 140286776985472 deprecation_wrapper.py:119] From /content/solver.py:194: The name tf.Session is deprecated. Please use tf.compat.v1.Session instead.\n",
            "\n",
            "2019-06-20 13:40:34.520439: I tensorflow/core/platform/profile_utils/cpu_utils.cc:94] CPU Frequency: 2200000000 Hz\n",
            "2019-06-20 13:40:34.520681: I tensorflow/compiler/xla/service/service.cc:168] XLA service 0x1362840 executing computations on platform Host. Devices:\n",
            "2019-06-20 13:40:34.520714: I tensorflow/compiler/xla/service/service.cc:175]   StreamExecutor device (0): <undefined>, <undefined>\n",
            "2019-06-20 13:40:34.522957: I tensorflow/stream_executor/platform/default/dso_loader.cc:42] Successfully opened dynamic library libcuda.so.1\n",
            "2019-06-20 13:40:34.721905: I tensorflow/stream_executor/cuda/cuda_gpu_executor.cc:1005] successful NUMA node read from SysFS had negative value (-1), but there must be at least one NUMA node, so returning NUMA node zero\n",
            "2019-06-20 13:40:34.722497: I tensorflow/compiler/xla/service/service.cc:168] XLA service 0x1362680 executing computations on platform CUDA. Devices:\n",
            "2019-06-20 13:40:34.722527: I tensorflow/compiler/xla/service/service.cc:175]   StreamExecutor device (0): Tesla T4, Compute Capability 7.5\n",
            "2019-06-20 13:40:34.722776: I tensorflow/stream_executor/cuda/cuda_gpu_executor.cc:1005] successful NUMA node read from SysFS had negative value (-1), but there must be at least one NUMA node, so returning NUMA node zero\n",
            "2019-06-20 13:40:34.723151: I tensorflow/core/common_runtime/gpu/gpu_device.cc:1640] Found device 0 with properties: \n",
            "name: Tesla T4 major: 7 minor: 5 memoryClockRate(GHz): 1.59\n",
            "pciBusID: 0000:00:04.0\n",
            "2019-06-20 13:40:34.723537: I tensorflow/stream_executor/platform/default/dso_loader.cc:42] Successfully opened dynamic library libcudart.so.10.0\n",
            "2019-06-20 13:40:34.724763: I tensorflow/stream_executor/platform/default/dso_loader.cc:42] Successfully opened dynamic library libcublas.so.10.0\n",
            "2019-06-20 13:40:34.726080: I tensorflow/stream_executor/platform/default/dso_loader.cc:42] Successfully opened dynamic library libcufft.so.10.0\n",
            "2019-06-20 13:40:34.726498: I tensorflow/stream_executor/platform/default/dso_loader.cc:42] Successfully opened dynamic library libcurand.so.10.0\n",
            "2019-06-20 13:40:34.727890: I tensorflow/stream_executor/platform/default/dso_loader.cc:42] Successfully opened dynamic library libcusolver.so.10.0\n",
            "2019-06-20 13:40:34.728990: I tensorflow/stream_executor/platform/default/dso_loader.cc:42] Successfully opened dynamic library libcusparse.so.10.0\n",
            "2019-06-20 13:40:34.732557: I tensorflow/stream_executor/platform/default/dso_loader.cc:42] Successfully opened dynamic library libcudnn.so.7\n",
            "2019-06-20 13:40:34.733522: I tensorflow/stream_executor/cuda/cuda_gpu_executor.cc:1005] successful NUMA node read from SysFS had negative value (-1), but there must be at least one NUMA node, so returning NUMA node zero\n",
            "2019-06-20 13:40:34.734097: I tensorflow/stream_executor/cuda/cuda_gpu_executor.cc:1005] successful NUMA node read from SysFS had negative value (-1), but there must be at least one NUMA node, so returning NUMA node zero\n",
            "2019-06-20 13:40:34.734641: I tensorflow/core/common_runtime/gpu/gpu_device.cc:1763] Adding visible gpu devices: 0\n",
            "2019-06-20 13:40:34.734726: I tensorflow/stream_executor/platform/default/dso_loader.cc:42] Successfully opened dynamic library libcudart.so.10.0\n",
            "2019-06-20 13:40:34.736041: I tensorflow/core/common_runtime/gpu/gpu_device.cc:1181] Device interconnect StreamExecutor with strength 1 edge matrix:\n",
            "2019-06-20 13:40:34.736079: I tensorflow/core/common_runtime/gpu/gpu_device.cc:1187]      0 \n",
            "2019-06-20 13:40:34.736094: I tensorflow/core/common_runtime/gpu/gpu_device.cc:1200] 0:   N \n",
            "2019-06-20 13:40:34.736543: I tensorflow/stream_executor/cuda/cuda_gpu_executor.cc:1005] successful NUMA node read from SysFS had negative value (-1), but there must be at least one NUMA node, so returning NUMA node zero\n",
            "2019-06-20 13:40:34.737186: I tensorflow/stream_executor/cuda/cuda_gpu_executor.cc:1005] successful NUMA node read from SysFS had negative value (-1), but there must be at least one NUMA node, so returning NUMA node zero\n",
            "2019-06-20 13:40:34.737782: I tensorflow/core/common_runtime/gpu/gpu_device.cc:1326] Created TensorFlow device (/job:localhost/replica:0/task:0/device:GPU:0 with 14202 MB memory) -> physical GPU (device: 0, name: Tesla T4, pci bus id: 0000:00:04.0, compute capability: 7.5)\n",
            "loading test model..\n",
            "W0620 13:40:34.738832 140286776985472 deprecation_wrapper.py:119] From /content/solver.py:197: The name tf.train.Saver is deprecated. Please use tf.compat.v1.train.Saver instead.\n",
            "\n",
            "Enter model number: 2000\n",
            "W0620 13:40:38.154678 140286776985472 deprecation.py:323] From /usr/local/lib/python3.6/dist-packages/tensorflow/python/training/saver.py:1276: checkpoint_exists (from tensorflow.python.training.checkpoint_management) is deprecated and will be removed in a future version.\n",
            "Instructions for updating:\n",
            "Use standard file APIs to check for files with this prefix.\n",
            "I0620 13:40:38.156523 140286776985472 saver.py:1280] Restoring parameters from model/dtn-2000\n",
            "start sampling..!\n",
            "2019-06-20 13:40:38.893487: I tensorflow/stream_executor/platform/default/dso_loader.cc:42] Successfully opened dynamic library libcudnn.so.7\n",
            "W0620 13:40:40.936886 140286776985472 util.py:61] Lossy conversion from float64 to uint8. Range [-1.0, 1.0]. Convert image to uint8 prior to saving to suppress this warning.\n",
            "saved sample/2000-sample-0-to-100.png\n",
            "W0620 13:40:41.125066 140286776985472 util.py:61] Lossy conversion from float64 to uint8. Range [-1.0, 1.0]. Convert image to uint8 prior to saving to suppress this warning.\n",
            "saved sample/2000-sample-100-to-200.png\n",
            "W0620 13:40:41.323101 140286776985472 util.py:61] Lossy conversion from float64 to uint8. Range [-1.0, 1.0]. Convert image to uint8 prior to saving to suppress this warning.\n",
            "saved sample/2000-sample-200-to-300.png\n",
            "W0620 13:40:41.519720 140286776985472 util.py:61] Lossy conversion from float64 to uint8. Range [-1.0, 1.0]. Convert image to uint8 prior to saving to suppress this warning.\n",
            "saved sample/2000-sample-300-to-400.png\n",
            "W0620 13:40:41.709638 140286776985472 util.py:61] Lossy conversion from float64 to uint8. Range [-1.0, 1.0]. Convert image to uint8 prior to saving to suppress this warning.\n",
            "saved sample/2000-sample-400-to-500.png\n",
            "W0620 13:40:41.918229 140286776985472 util.py:61] Lossy conversion from float64 to uint8. Range [-1.0, 1.0]. Convert image to uint8 prior to saving to suppress this warning.\n",
            "saved sample/2000-sample-500-to-600.png\n",
            "W0620 13:40:42.108785 140286776985472 util.py:61] Lossy conversion from float64 to uint8. Range [-1.0, 1.0]. Convert image to uint8 prior to saving to suppress this warning.\n",
            "saved sample/2000-sample-600-to-700.png\n",
            "W0620 13:40:42.303521 140286776985472 util.py:61] Lossy conversion from float64 to uint8. Range [-1.0, 1.0]. Convert image to uint8 prior to saving to suppress this warning.\n",
            "saved sample/2000-sample-700-to-800.png\n",
            "W0620 13:40:42.500257 140286776985472 util.py:61] Lossy conversion from float64 to uint8. Range [-1.0, 1.0]. Convert image to uint8 prior to saving to suppress this warning.\n",
            "saved sample/2000-sample-800-to-900.png\n",
            "W0620 13:40:42.691507 140286776985472 util.py:61] Lossy conversion from float64 to uint8. Range [-1.0, 1.0]. Convert image to uint8 prior to saving to suppress this warning.\n",
            "saved sample/2000-sample-900-to-1000.png\n"
          ],
          "name": "stdout"
        }
      ]
    },
    {
      "cell_type": "code",
      "metadata": {
        "id": "pIDEc4VHHKWH",
        "colab_type": "code",
        "colab": {}
      },
      "source": [
        "!zip -r number-6000-sample.zip sample"
      ],
      "execution_count": 0,
      "outputs": []
    }
  ]
}